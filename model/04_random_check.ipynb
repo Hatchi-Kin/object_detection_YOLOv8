{
 "cells": [
  {
   "cell_type": "code",
   "execution_count": 1,
   "metadata": {},
   "outputs": [],
   "source": [
    "import os\n",
    "import random\n",
    "import cv2"
   ]
  },
  {
   "cell_type": "code",
   "execution_count": 2,
   "metadata": {},
   "outputs": [],
   "source": [
    "def display_random_image_with_label(images_folder, labels_folder):\n",
    "    # Get a list of all the image filenames in the images folder\n",
    "    image_filenames = os.listdir(images_folder)\n",
    "    # Pick a random image filename from the list\n",
    "    random_image_filename = random.choice(image_filenames)\n",
    "    # Load the image using cv2.imread()\n",
    "    image_path = os.path.join(images_folder, random_image_filename)\n",
    "    image = cv2.imread(image_path)\n",
    "    # Load the corresponding label file using the same filename but with a .txt extension instead of .jpg\n",
    "    label_filename = os.path.splitext(random_image_filename)[0] + '.txt'\n",
    "    label_path = os.path.join(labels_folder, label_filename)\n",
    "    # Read the contents of the label file and parse the object coordinates and class labels\n",
    "    with open(label_path, 'r') as f:\n",
    "        lines = f.readlines()\n",
    "    for line in lines:\n",
    "        class_label, x, y, w, h = map(float, line.split())\n",
    "        # Draw bounding boxes on the image using cv2.rectangle()\n",
    "        left = int((x - w/2) * image.shape[1])\n",
    "        top = int((y - h/2) * image.shape[0])\n",
    "        right = int((x + w/2) * image.shape[1])\n",
    "        bottom = int((y + h/2) * image.shape[0])\n",
    "        cv2.rectangle(image, (left, top), (right, bottom), (0, 255, 0), 2)\n",
    "    # Display the image using cv2.imshow()\n",
    "    cv2.imshow('Random Image with Label', image)\n",
    "    cv2.waitKey(0)\n",
    "    cv2.destroyAllWindows()"
   ]
  },
  {
   "cell_type": "code",
   "execution_count": 3,
   "metadata": {},
   "outputs": [],
   "source": [
    "images_folder = 'hardhat_vest_data/images/train'\n",
    "labels_folder = 'hardhat_vest_data/labels/train'"
   ]
  },
  {
   "cell_type": "code",
   "execution_count": 4,
   "metadata": {},
   "outputs": [],
   "source": [
    "display_random_image_with_label(images_folder, labels_folder)"
   ]
  }
 ],
 "metadata": {
  "kernelspec": {
   "display_name": ".venv",
   "language": "python",
   "name": "python3"
  },
  "language_info": {
   "codemirror_mode": {
    "name": "ipython",
    "version": 3
   },
   "file_extension": ".py",
   "mimetype": "text/x-python",
   "name": "python",
   "nbconvert_exporter": "python",
   "pygments_lexer": "ipython3",
   "version": "3.11.3"
  },
  "orig_nbformat": 4
 },
 "nbformat": 4,
 "nbformat_minor": 2
}
